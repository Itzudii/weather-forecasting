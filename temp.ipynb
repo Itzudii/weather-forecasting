{
 "cells": [
  {
   "cell_type": "code",
   "execution_count": 28,
   "metadata": {},
   "outputs": [],
   "source": [
    "from bs4 import BeautifulSoup\n",
    "import requests"
   ]
  },
  {
   "cell_type": "code",
   "execution_count": 29,
   "metadata": {},
   "outputs": [],
   "source": [
    "apikey = '9b84156024a1157f9ceaf83477c026d7'"
   ]
  },
  {
   "cell_type": "code",
   "execution_count": 30,
   "metadata": {},
   "outputs": [],
   "source": [
    "city_code = 'indore'\n",
    "state_code = 'jjd'\n",
    "\n",
    "country_code = None"
   ]
  },
  {
   "cell_type": "code",
   "execution_count": 31,
   "metadata": {},
   "outputs": [],
   "source": [
    "class Weather:\n",
    "\n",
    "    def check(self,item):\n",
    "        if item:\n",
    "            return f',{item}'\n",
    "        return ''\n",
    "    \n",
    "    def getweatherdata(self,city_name,country_code=None):\n",
    "        api = f'http://api.openweathermap.org/geo/1.0/direct?q={city_name}{self.check(country_code)}&appid={apikey}'\n",
    "        try:\n",
    "            response = requests.get(api)\n",
    "            data = response.json()\n",
    "            print(data)\n",
    "            lat = data[0]['lat']\n",
    "            lon = data[0]['lon']\n",
    "        except requests.exceptions.RequestException as e:\n",
    "            return f'error: {e}'\n",
    "        try:\n",
    "            response = requests.get(f'https://api.openweathermap.org/data/2.5/weather?lat={lat}&lon={lon}&units=metric&appid={apikey}')\n",
    "            data = response.json()\n",
    "            return data\n",
    "        except requests.exceptions.RequestException as e:\n",
    "            return f'error: {e}'"
   ]
  },
  {
   "cell_type": "code",
   "execution_count": 32,
   "metadata": {},
   "outputs": [
    {
     "name": "stdout",
     "output_type": "stream",
     "text": [
      "[{'name': 'Ujjain', 'local_names': {'ta': 'உஜ்ஜைன்', 'pa': 'ਉੱਜੈਨ', 'mr': 'उज्जैन', 'hi': 'उज्जैन', 'kn': 'ಉಜ್ಜೆಯಿನಿ', 'gu': 'ઉજ્જૈન', 'ja': 'ウッジャイン', 'sr': 'Уџајин', 'ml': 'ഉജ്ജയിൻ', 'bn': 'উজ্জয়িনী', 'ar': 'أوجاين', 'en': 'Ujjain', 'ru': 'Уджайи'}, 'lat': 23.1885131, 'lon': 75.7716562, 'country': 'IN', 'state': 'Madhya Pradesh'}]\n"
     ]
    }
   ],
   "source": [
    "obj = Weather()\n",
    "data = obj.getweatherdata('ujjain',country_code='IN')"
   ]
  },
  {
   "cell_type": "code",
   "execution_count": 33,
   "metadata": {},
   "outputs": [
    {
     "data": {
      "text/plain": [
       "{'coord': {'lon': 75.7717, 'lat': 23.1885},\n",
       " 'weather': [{'id': 800,\n",
       "   'main': 'Clear',\n",
       "   'description': 'clear sky',\n",
       "   'icon': '01d'}],\n",
       " 'base': 'stations',\n",
       " 'main': {'temp': 26.18,\n",
       "  'feels_like': 26.18,\n",
       "  'temp_min': 26.18,\n",
       "  'temp_max': 26.18,\n",
       "  'pressure': 1011,\n",
       "  'humidity': 20,\n",
       "  'sea_level': 1011,\n",
       "  'grnd_level': 954},\n",
       " 'visibility': 10000,\n",
       " 'wind': {'speed': 1.2, 'deg': 75, 'gust': 0.97},\n",
       " 'clouds': {'all': 0},\n",
       " 'dt': 1734519169,\n",
       " 'sys': {'country': 'IN', 'sunrise': 1734485539, 'sunset': 1734524092},\n",
       " 'timezone': 19800,\n",
       " 'id': 1253914,\n",
       " 'name': 'Ujjain',\n",
       " 'cod': 200}"
      ]
     },
     "execution_count": 33,
     "metadata": {},
     "output_type": "execute_result"
    }
   ],
   "source": [
    "data"
   ]
  },
  {
   "cell_type": "code",
   "execution_count": 34,
   "metadata": {},
   "outputs": [],
   "source": [
    "def check(item):\n",
    "    if statename:\n",
    "        return f',{statename}'"
   ]
  },
  {
   "cell_type": "code",
   "execution_count": 35,
   "metadata": {},
   "outputs": [
    {
     "ename": "NameError",
     "evalue": "name 'statename' is not defined",
     "output_type": "error",
     "traceback": [
      "\u001b[1;31m---------------------------------------------------------------------------\u001b[0m",
      "\u001b[1;31mNameError\u001b[0m                                 Traceback (most recent call last)",
      "Cell \u001b[1;32mIn[35], line 1\u001b[0m\n\u001b[1;32m----> 1\u001b[0m check(\u001b[43mstatename\u001b[49m)\n",
      "\u001b[1;31mNameError\u001b[0m: name 'statename' is not defined"
     ]
    }
   ],
   "source": [
    "check(statename)"
   ]
  },
  {
   "cell_type": "code",
   "execution_count": null,
   "metadata": {},
   "outputs": [],
   "source": []
  },
  {
   "cell_type": "code",
   "execution_count": 129,
   "metadata": {},
   "outputs": [],
   "source": [
    "api = f'http://api.openweathermap.org/geo/1.0/direct?q=indore,IN&appid={apikey}'\n",
    "# api = f'http://api.openweathermap.org/geo/1.0/direct?q={cityname},{statename},{countryname}&appid={apikey}'\n",
    "# api = f'http://api.openweathermap.org/geo/1.0/direct?q={cityname},{statename},{countryname}&limit={limit}&appid={apikey}'"
   ]
  },
  {
   "cell_type": "code",
   "execution_count": 130,
   "metadata": {},
   "outputs": [
    {
     "data": {
      "text/plain": [
       "'http://api.openweathermap.org/geo/1.0/direct?q=indore,IN&appid=9b84156024a1157f9ceaf83477c026d7'"
      ]
     },
     "execution_count": 130,
     "metadata": {},
     "output_type": "execute_result"
    }
   ],
   "source": [
    "api"
   ]
  },
  {
   "cell_type": "code",
   "execution_count": 131,
   "metadata": {},
   "outputs": [],
   "source": [
    "new_link = 'https://www.accuweather.com/en/search-locations?query=indore'"
   ]
  },
  {
   "cell_type": "code",
   "execution_count": 132,
   "metadata": {},
   "outputs": [],
   "source": [
    "request = requests.get(api)"
   ]
  },
  {
   "cell_type": "code",
   "execution_count": 133,
   "metadata": {},
   "outputs": [],
   "source": [
    "data = request.json()"
   ]
  },
  {
   "cell_type": "code",
   "execution_count": 134,
   "metadata": {},
   "outputs": [
    {
     "data": {
      "text/plain": [
       "[{'name': 'Indore',\n",
       "  'local_names': {'de': 'Indore',\n",
       "   'ur': 'اندور',\n",
       "   'fa': 'ایندور',\n",
       "   'ml': 'ഇൻ\\u200cഡോർ',\n",
       "   'hy': 'Ինդաուր',\n",
       "   'es': 'Indore',\n",
       "   'ru': 'Индаур',\n",
       "   'be': 'Індаур',\n",
       "   'sr': 'Индор',\n",
       "   'kn': 'ಇಂದೋರ್',\n",
       "   'bg': 'Индаур',\n",
       "   'gu': 'ઈંદોર',\n",
       "   'ks': 'اندور',\n",
       "   'pa': 'ਇੰਦੌਰ',\n",
       "   'ja': 'インドール',\n",
       "   'zh': '印多尔',\n",
       "   'hi': 'इन्दौर',\n",
       "   'he': 'אינדור',\n",
       "   'ps': 'اندور',\n",
       "   'uk': 'Індаур',\n",
       "   'en': 'Indore',\n",
       "   'ar': 'إندور',\n",
       "   'el': 'Ιντόρ',\n",
       "   'ms': 'Indore',\n",
       "   'mr': 'इंदूर'},\n",
       "  'lat': 22.7203616,\n",
       "  'lon': 75.8681996,\n",
       "  'country': 'IN',\n",
       "  'state': 'Madhya Pradesh'}]"
      ]
     },
     "execution_count": 134,
     "metadata": {},
     "output_type": "execute_result"
    }
   ],
   "source": [
    "data"
   ]
  },
  {
   "cell_type": "code",
   "execution_count": 125,
   "metadata": {},
   "outputs": [
    {
     "data": {
      "text/plain": [
       "38.3528812"
      ]
     },
     "execution_count": 125,
     "metadata": {},
     "output_type": "execute_result"
    }
   ],
   "source": [
    "data[0]['lat']"
   ]
  },
  {
   "cell_type": "code",
   "execution_count": 126,
   "metadata": {},
   "outputs": [],
   "source": [
    "lat = data[0]['lat']\n",
    "lon = data[0]['lon']"
   ]
  },
  {
   "cell_type": "code",
   "execution_count": 127,
   "metadata": {},
   "outputs": [],
   "source": [
    "response = requests.get(f'https://api.openweathermap.org/data/2.5/weather?lat={lat}&lon={lon}&appid={apikey}')"
   ]
  },
  {
   "cell_type": "code",
   "execution_count": 128,
   "metadata": {},
   "outputs": [
    {
     "data": {
      "text/plain": [
       "{'coord': {'lon': -81.1468, 'lat': 38.3529},\n",
       " 'weather': [{'id': 800,\n",
       "   'main': 'Clear',\n",
       "   'description': 'clear sky',\n",
       "   'icon': '01n'}],\n",
       " 'base': 'stations',\n",
       " 'main': {'temp': 275.59,\n",
       "  'feels_like': 274.37,\n",
       "  'temp_min': 275.59,\n",
       "  'temp_max': 275.59,\n",
       "  'pressure': 1027,\n",
       "  'humidity': 77,\n",
       "  'sea_level': 1027,\n",
       "  'grnd_level': 980},\n",
       " 'visibility': 10000,\n",
       " 'wind': {'speed': 1.37, 'deg': 145, 'gust': 1.22},\n",
       " 'clouds': {'all': 2},\n",
       " 'dt': 1734498559,\n",
       " 'sys': {'type': 2,\n",
       "  'id': 2096075,\n",
       "  'country': 'US',\n",
       "  'sunrise': 1734525402,\n",
       "  'sunset': 1734559575},\n",
       " 'timezone': -18000,\n",
       " 'id': 4802333,\n",
       " 'name': 'Clay',\n",
       " 'cod': 200}"
      ]
     },
     "execution_count": 128,
     "metadata": {},
     "output_type": "execute_result"
    }
   ],
   "source": [
    "new_data = response.json()\n",
    "new_data"
   ]
  },
  {
   "cell_type": "code",
   "execution_count": 47,
   "metadata": {},
   "outputs": [
    {
     "ename": "FeatureNotFound",
     "evalue": "Couldn't find a tree builder with the features you requested: js.parser. Do you need to install a parser library?",
     "output_type": "error",
     "traceback": [
      "\u001b[1;31m---------------------------------------------------------------------------\u001b[0m",
      "\u001b[1;31mFeatureNotFound\u001b[0m                           Traceback (most recent call last)",
      "Cell \u001b[1;32mIn[47], line 1\u001b[0m\n\u001b[1;32m----> 1\u001b[0m soup \u001b[38;5;241m=\u001b[39m \u001b[43mBeautifulSoup\u001b[49m\u001b[43m(\u001b[49m\u001b[43mrequest\u001b[49m\u001b[38;5;241;43m.\u001b[39;49m\u001b[43mtext\u001b[49m\u001b[43m,\u001b[49m\u001b[38;5;124;43m'\u001b[39;49m\u001b[38;5;124;43mjs.parser\u001b[39;49m\u001b[38;5;124;43m'\u001b[39;49m\u001b[43m)\u001b[49m\n",
      "File \u001b[1;32mc:\\Program Files\\Python310\\lib\\site-packages\\bs4\\__init__.py:250\u001b[0m, in \u001b[0;36mBeautifulSoup.__init__\u001b[1;34m(self, markup, features, builder, parse_only, from_encoding, exclude_encodings, element_classes, **kwargs)\u001b[0m\n\u001b[0;32m    248\u001b[0m     builder_class \u001b[38;5;241m=\u001b[39m builder_registry\u001b[38;5;241m.\u001b[39mlookup(\u001b[38;5;241m*\u001b[39mfeatures)\n\u001b[0;32m    249\u001b[0m     \u001b[38;5;28;01mif\u001b[39;00m builder_class \u001b[38;5;129;01mis\u001b[39;00m \u001b[38;5;28;01mNone\u001b[39;00m:\n\u001b[1;32m--> 250\u001b[0m         \u001b[38;5;28;01mraise\u001b[39;00m FeatureNotFound(\n\u001b[0;32m    251\u001b[0m             \u001b[38;5;124m\"\u001b[39m\u001b[38;5;124mCouldn\u001b[39m\u001b[38;5;124m'\u001b[39m\u001b[38;5;124mt find a tree builder with the features you \u001b[39m\u001b[38;5;124m\"\u001b[39m\n\u001b[0;32m    252\u001b[0m             \u001b[38;5;124m\"\u001b[39m\u001b[38;5;124mrequested: \u001b[39m\u001b[38;5;132;01m%s\u001b[39;00m\u001b[38;5;124m. Do you need to install a parser library?\u001b[39m\u001b[38;5;124m\"\u001b[39m\n\u001b[0;32m    253\u001b[0m             \u001b[38;5;241m%\u001b[39m \u001b[38;5;124m\"\u001b[39m\u001b[38;5;124m,\u001b[39m\u001b[38;5;124m\"\u001b[39m\u001b[38;5;241m.\u001b[39mjoin(features))\n\u001b[0;32m    255\u001b[0m \u001b[38;5;66;03m# At this point either we have a TreeBuilder instance in\u001b[39;00m\n\u001b[0;32m    256\u001b[0m \u001b[38;5;66;03m# builder, or we have a builder_class that we can instantiate\u001b[39;00m\n\u001b[0;32m    257\u001b[0m \u001b[38;5;66;03m# with the remaining **kwargs.\u001b[39;00m\n\u001b[0;32m    258\u001b[0m \u001b[38;5;28;01mif\u001b[39;00m builder \u001b[38;5;129;01mis\u001b[39;00m \u001b[38;5;28;01mNone\u001b[39;00m:\n",
      "\u001b[1;31mFeatureNotFound\u001b[0m: Couldn't find a tree builder with the features you requested: js.parser. Do you need to install a parser library?"
     ]
    }
   ],
   "source": [
    "soup = BeautifulSoup(request.text,'js.parser')"
   ]
  },
  {
   "cell_type": "code",
   "execution_count": 10,
   "metadata": {},
   "outputs": [
    {
     "data": {
      "text/plain": [
       "[{\"name\":\"Indore\",\"local_names\":{\"en\":\"Indore\",\"kn\":\"ಇಂದೋರ್\",\"he\":\"אינדור\",\"ar\":\"إندور\",\"uk\":\"Індаур\",\"ur\":\"اندور\",\"ru\":\"Индаур\",\"pa\":\"ਇੰਦੌਰ\",\"mr\":\"इंदूर\",\"zh\":\"印多尔\",\"hy\":\"Ինդաուր\",\"be\":\"Індаур\",\"ml\":\"ഇൻ‌ഡോർ\",\"ks\":\"اندور\",\"hi\":\"इन्दौर\",\"es\":\"Indore\",\"gu\":\"ઈંદોર\",\"ps\":\"اندور\",\"ja\":\"インドール\",\"el\":\"Ιντόρ\",\"bg\":\"Индаур\",\"sr\":\"Индор\",\"ms\":\"Indore\",\"de\":\"Indore\",\"fa\":\"ایندور\"},\"lat\":22.7203616,\"lon\":75.8681996,\"country\":\"IN\",\"state\":\"Madhya Pradesh\"}]"
      ]
     },
     "execution_count": 10,
     "metadata": {},
     "output_type": "execute_result"
    }
   ],
   "source": [
    "soup"
   ]
  },
  {
   "cell_type": "code",
   "execution_count": 11,
   "metadata": {},
   "outputs": [],
   "source": [
    "# https://api.openweathermap.org/data/2.5/weather?lat={lat}&lon={lon}&appid={API key}\n",
    "# https://api.openweathermap.org/data/2.5/weather?lat={lat}&lon={lon}&appid={API key}9b84156024a1157f9ceaf83477c026d7"
   ]
  },
  {
   "cell_type": "code",
   "execution_count": 6,
   "metadata": {},
   "outputs": [
    {
     "name": "stdout",
     "output_type": "stream",
     "text": [
      "2024-09-18 11:59:18\n"
     ]
    }
   ],
   "source": [
    "import datetime\n",
    "\n",
    "timestamp = 1726660758\n",
    "\n",
    "dt_object = datetime.datetime.utcfromtimestamp(timestamp)\n",
    "\n",
    "print(dt_object.strftime(\"%Y-%m-%d %H:%M:%S\"))"
   ]
  },
  {
   "cell_type": "code",
   "execution_count": 27,
   "metadata": {},
   "outputs": [
    {
     "data": {
      "text/plain": [
       "10"
      ]
     },
     "execution_count": 27,
     "metadata": {},
     "output_type": "execute_result"
    }
   ],
   "source": [
    "a=(10,)\n",
    "a[0]\n",
    "\n"
   ]
  },
  {
   "cell_type": "code",
   "execution_count": 18,
   "metadata": {},
   "outputs": [],
   "source": [
    "def presencechecker(a,index):\n",
    "    try:\n",
    "        return a[index]\n",
    "    except:\n",
    "        return 'not avaliable'"
   ]
  },
  {
   "cell_type": "code",
   "execution_count": 19,
   "metadata": {},
   "outputs": [
    {
     "data": {
      "text/plain": [
       "2"
      ]
     },
     "execution_count": 19,
     "metadata": {},
     "output_type": "execute_result"
    }
   ],
   "source": [
    "presencechecker(a,2)"
   ]
  },
  {
   "cell_type": "code",
   "execution_count": null,
   "metadata": {},
   "outputs": [],
   "source": [
    "longitude = obj.presencechecker( data['coord'],'lon'),\n",
    "latitude = obj.presencechecker( data['coord'],'lat'),\n",
    "main = obj.presencechecker( data['weather'][0],'main'),\n",
    "description = obj.presencechecker( data['weather'][0],'description'),\n",
    "icon = obj.presencechecker( data['weather'],[0]'icon'),\n",
    "temp  = obj.presencechecker( data['main'],'temp'),\n",
    "feels_like  = obj.presencechecker( data['main'],'feels_like'),\n",
    "temp_min  = obj.presencechecker( data['main'],'temp_min'),\n",
    "temp_max  = obj.presencechecker( data['main'],'temp_max'),\n",
    "pressure  = obj.presencechecker( data['main'],'pressure'),\n",
    "humidity  = obj.presencechecker( data['main'],'humidity'),\n",
    "sea_level  = obj.presencechecker( data['main'],'sea_level'),\n",
    "grnd_level  = obj.presencechecker( data['main'],'grnd_level'),\n",
    "visibility  = obj.presencechecker( data,'visibility'),\n",
    "speed  = obj.presencechecker( data['wind'],'speed'),\n",
    "deg  = obj.presencechecker( data['wind'],'deg'),\n",
    "gust  = obj.presencechecker( data['wind'],'gust'),\n",
    "rain  = obj.presencechecker( data['rain'],'1h'),\n",
    "clouds  = obj.presencechecker( data['clouds'],'all'),\n",
    "dt  = obj.presencechecker( data'dt'),\n",
    "country  = obj.presencechecker( data['sys'],'country'),\n",
    "sunrise  = obj.presencechecker( data['sys'],'sunrise'),\n",
    "sunset  = obj.presencechecker( data['sys'],'sunset'),\n",
    "cityname  = obj.presencechecker( data,'name'),"
   ]
  },
  {
   "cell_type": "code",
   "execution_count": 21,
   "metadata": {},
   "outputs": [
    {
     "data": {
      "text/plain": [
       "'UDITYA'"
      ]
     },
     "execution_count": 21,
     "metadata": {},
     "output_type": "execute_result"
    }
   ],
   "source": [
    "a='uditya'\n",
    "a.upper()"
   ]
  },
  {
   "cell_type": "code",
   "execution_count": null,
   "metadata": {},
   "outputs": [],
   "source": []
  }
 ],
 "metadata": {
  "kernelspec": {
   "display_name": "Python 3",
   "language": "python",
   "name": "python3"
  },
  "language_info": {
   "codemirror_mode": {
    "name": "ipython",
    "version": 3
   },
   "file_extension": ".py",
   "mimetype": "text/x-python",
   "name": "python",
   "nbconvert_exporter": "python",
   "pygments_lexer": "ipython3",
   "version": "3.10.11"
  }
 },
 "nbformat": 4,
 "nbformat_minor": 2
}
